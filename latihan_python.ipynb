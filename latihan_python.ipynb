{
  "nbformat": 4,
  "nbformat_minor": 0,
  "metadata": {
    "colab": {
      "provenance": [],
      "authorship_tag": "ABX9TyNeybWdtE0kaq2RYMOVYTu5",
      "include_colab_link": true
    },
    "kernelspec": {
      "name": "python3",
      "display_name": "Python 3"
    },
    "language_info": {
      "name": "python"
    }
  },
  "cells": [
    {
      "cell_type": "markdown",
      "metadata": {
        "id": "view-in-github",
        "colab_type": "text"
      },
      "source": [
        "<a href=\"https://colab.research.google.com/github/Al-fath3/PraktikumPython/blob/main/latihan_python.ipynb\" target=\"_parent\"><img src=\"https://colab.research.google.com/assets/colab-badge.svg\" alt=\"Open In Colab\"/></a>"
      ]
    },
    {
      "cell_type": "code",
      "source": [
        "a=3\n",
        "print(a)\n",
        "type(a)"
      ],
      "metadata": {
        "colab": {
          "base_uri": "https://localhost:8080/"
        },
        "id": "WtSG4QDV1zbB",
        "outputId": "183d5411-c3b3-4ccd-e1e6-364a089d08cc"
      },
      "execution_count": 1,
      "outputs": [
        {
          "output_type": "stream",
          "name": "stdout",
          "text": [
            "3\n"
          ]
        },
        {
          "output_type": "execute_result",
          "data": {
            "text/plain": [
              "int"
            ]
          },
          "metadata": {},
          "execution_count": 1
        }
      ]
    },
    {
      "cell_type": "code",
      "source": [
        "a=3\n",
        "b=4+3\n",
        "print(b)"
      ],
      "metadata": {
        "colab": {
          "base_uri": "https://localhost:8080/"
        },
        "id": "c3OslGVw2bBW",
        "outputId": "c9a8d6e8-efa9-49af-b18a-22168e064c54"
      },
      "execution_count": 2,
      "outputs": [
        {
          "output_type": "stream",
          "name": "stdout",
          "text": [
            "7\n"
          ]
        }
      ]
    },
    {
      "cell_type": "code",
      "execution_count": 3,
      "metadata": {
        "colab": {
          "base_uri": "https://localhost:8080/"
        },
        "id": "slALI-iq1x-r",
        "outputId": "14cee8fc-a314-4514-8dc8-9d04f9b94477"
      },
      "outputs": [
        {
          "output_type": "stream",
          "name": "stdout",
          "text": [
            "Bagus\n",
            "['Ade', 'Aira', 'Budi', 'Bagus']\n",
            "[1, 2, 3, 4, 5]\n"
          ]
        }
      ],
      "source": [
        "angka=[1,2,3,4,5]\n",
        "type(angka)\n",
        "angka[4]\n",
        "nama=[\"Ade\",\"Aira\",\"Budi\",\"Bagus\"]\n",
        "print(nama[3])\n",
        "print(nama)\n",
        "print(angka)"
      ]
    },
    {
      "cell_type": "code",
      "source": [
        "Belanjaan={\"Mangga\":8000,\"Apel\":7000,\"Semangka\":10000,\"Jeruk\":12000}\n",
        "print(\"Daftar Belanja\")\n",
        "Belanjaan"
      ],
      "metadata": {
        "colab": {
          "base_uri": "https://localhost:8080/"
        },
        "id": "odhVLyvi3gCT",
        "outputId": "7213e333-e7e0-423c-d952-4c3e171a768b"
      },
      "execution_count": 4,
      "outputs": [
        {
          "output_type": "stream",
          "name": "stdout",
          "text": [
            "Daftar Belanja\n"
          ]
        },
        {
          "output_type": "execute_result",
          "data": {
            "text/plain": [
              "{'Mangga': 8000, 'Apel': 7000, 'Semangka': 10000, 'Jeruk': 12000}"
            ]
          },
          "metadata": {},
          "execution_count": 4
        }
      ]
    },
    {
      "cell_type": "code",
      "source": [
        "a=3\n",
        "b=a+3\n",
        "print(f\"hasilnya {b}\")"
      ],
      "metadata": {
        "id": "7mnrXjV34xTo",
        "colab": {
          "base_uri": "https://localhost:8080/"
        },
        "outputId": "8eecaf2d-68b4-45d8-feca-5cb5b414a044"
      },
      "execution_count": 11,
      "outputs": [
        {
          "output_type": "stream",
          "name": "stdout",
          "text": [
            "hasilnya 6\n"
          ]
        }
      ]
    },
    {
      "cell_type": "code",
      "source": [],
      "metadata": {
        "id": "QXZOvVFm998A"
      },
      "execution_count": 10,
      "outputs": []
    }
  ]
}